{
  "nbformat": 4,
  "nbformat_minor": 0,
  "metadata": {
    "colab": {
      "provenance": []
    },
    "kernelspec": {
      "name": "python3",
      "display_name": "Python 3"
    },
    "language_info": {
      "name": "python"
    }
  },
  "cells": [
    {
      "cell_type": "code",
      "execution_count": 2,
      "metadata": {
        "colab": {
          "base_uri": "https://localhost:8080/"
        },
        "id": "9mUIaXOf6LJ2",
        "outputId": "5dab9e14-effe-4909-8ffe-e0166465b0ae"
      },
      "outputs": [
        {
          "output_type": "stream",
          "name": "stdout",
          "text": [
            "Collecting bing-image-downloader\n",
            "  Downloading bing_image_downloader-1.1.2-py3-none-any.whl (5.9 kB)\n",
            "Installing collected packages: bing-image-downloader\n",
            "Successfully installed bing-image-downloader-1.1.2\n"
          ]
        }
      ],
      "source": [
        "!pip install bing-image-downloader\n"
      ]
    },
    {
      "cell_type": "code",
      "source": [
        "from bing_image_downloader import downloader # bing_image_downloader 모듈에서 downloader를 가져옴\n",
        "\n",
        "from pathlib import Path # pathlib 모듈에서 Path를 가져옴\n",
        "\n",
        "\n",
        "def download_images(keyword, num_images, file_name):\n",
        "\n",
        "    output_directory = \"images\" # 이미지를 저장할 폴더 이름\n",
        "\n",
        "\n",
        "\n",
        "    downloader.download(keyword, limit=num_images, output_dir=output_directory, adult_filter_off=True, force_replace=False, timeout=60)\n",
        "    # 이미지 다운로드\n",
        "\n",
        "\n",
        "\n",
        "    root = Path().cwd() / output_directory # 이미지 저장 폴더의 경로\n",
        "\n",
        "    downloaded_files = list(root.glob(\"*.*\")) # 폴더 내 모든 파일 가져오기\n",
        "\n",
        "    for i, file in enumerate(downloaded_files): # 다운로드된 각 파일에 대해 반복\n",
        "\n",
        "        extension = file.suffix # 파일 확장자\n",
        "\n",
        "        new_file_name = f\"{file_name}{i+1}{extension}\" # 새로운 파일 이름\n",
        "\n",
        "        new_file_path = root / new_file_name # 새로운 파일 경로\n",
        "\n",
        "        file.rename(new_file_path) # 파일 이름 변경"
      ],
      "metadata": {
        "id": "BbTEHEA37OKS"
      },
      "execution_count": 9,
      "outputs": []
    },
    {
      "cell_type": "code",
      "source": [
        "# 사용 예시\n",
        "\n",
        "keyword = \"짱구\" # 이미지 검색 키워드\n",
        "\n",
        "num_images = 30 # 다운로드할 이미지 수\n",
        "\n",
        "file_name = \"짱구\" # 파일 이름"
      ],
      "metadata": {
        "id": "sEA3_D1c7nz6"
      },
      "execution_count": 10,
      "outputs": []
    },
    {
      "cell_type": "code",
      "source": [
        "from google.colab import drive\n",
        "drive.mount('/content/drive')"
      ],
      "metadata": {
        "colab": {
          "base_uri": "https://localhost:8080/"
        },
        "id": "fbRRK0CP7rAL",
        "outputId": "cc1e8d62-fcaa-4919-97ff-39e32de3f24b"
      },
      "execution_count": 11,
      "outputs": [
        {
          "output_type": "stream",
          "name": "stdout",
          "text": [
            "Drive already mounted at /content/drive; to attempt to forcibly remount, call drive.mount(\"/content/drive\", force_remount=True).\n"
          ]
        }
      ]
    },
    {
      "cell_type": "code",
      "source": [
        "download_images(keyword, num_images, file_name) # 이미지 다운로드"
      ],
      "metadata": {
        "colab": {
          "base_uri": "https://localhost:8080/"
        },
        "id": "swuyBsg973t6",
        "outputId": "f62e6fad-e979-4eb2-b28e-2210396a2eb7"
      },
      "execution_count": 12,
      "outputs": [
        {
          "output_type": "stream",
          "name": "stdout",
          "text": [
            "[%] Downloading Images to /content/images/짱구\n",
            "\n",
            "\n",
            "[!!]Indexing page: 1\n",
            "\n",
            "[%] Indexed 30 Images on Page 1.\n",
            "\n",
            "===============================================\n",
            "\n",
            "[%] Downloading Image #1 from https://yt3.ggpht.com/a/AGF-l79koX3X6XgOVj47MmPArpjmFAP2vIcJ7xlHnw=s900-c-k-c0xffffffff-no-rj-mo\n",
            "[%] File Downloaded !\n",
            "\n",
            "[%] Downloading Image #2 from https://an2-img.amz.wtchn.net/image/v1/watcha/image/upload/c_fill,h_1080,q_80,w_1920/v1609744969/wnelhqncan9yi3ekiibv.jpg\n",
            "[%] File Downloaded !\n",
            "\n",
            "[%] Downloading Image #3 from https://an2-img.amz.wtchn.net/image/v2/27HNjFwVTisS4tNCZ5ho5g.jpg?jwt=ZXlKaGJHY2lPaUpJVXpJMU5pSjkuZXlKdmNIUnpJanBiSW1SZk1Ua3lNSGd4TURnd2NUZ3dJbDBzSW5BaU9pSXZkakl2YzNSdmNtVXZhVzFoWjJVdk1UWXlOakl5TnpJMU16Y3dOakE1TVRJeE1pSjkuTFRvT2YyLXdVYmMyUlVZVm9CNXFSMlprT0twVnhBM29SNzJSYVpPQWs3bw\n",
            "[%] File Downloaded !\n",
            "\n",
            "[%] Downloading Image #4 from https://www.themoviedb.org/t/p/original/fhWsuQ2zoi4aF0mCgmdFocukdP3.jpg\n",
            "[%] File Downloaded !\n",
            "\n",
            "[%] Downloading Image #5 from https://pbs.twimg.com/media/DzQuhcQU8AA7QpX.jpg:large\n",
            "[%] File Downloaded !\n",
            "\n",
            "[%] Downloading Image #6 from https://dhgywazgeek0d.cloudfront.net/watcha/image/upload/c_fill,h_1080,q_80,w_1920/v1583393196/sw2lmbbieugm63lgzf3i.jpg\n",
            "[%] File Downloaded !\n",
            "\n",
            "[%] Downloading Image #7 from https://an2-img.amz.wtchn.net/image/v2/0f607839152a074ae444f5f8c3cf47da.jpg?jwt=ZXlKaGJHY2lPaUpJVXpJMU5pSjkuZXlKaVlXTnJaM0p2ZFc1a0lqcDdJbklpT2pJMU5Td2laeUk2TWpVMUxDSmlJam95TlRWOUxDSmpjbTl3SWpwMGNuVmxMQ0pvWldsbmFIUWlPakV3T0RBc0luQmhkR2dpT2lJdmRqRXZaV2hsTkdkd2RXSnhiMmRqY1dKM09UVjFjRzRpTENKeGRXRnNhWFI1SWpvNE1Dd2lkMmxrZEdnaU9qRTVNakI5LklVNENwVk5fN3ZlOVJoMzRaQkpQY3BIVlBJWFhOR0EwUG8tdURQRGsyd0E\n",
            "[%] File Downloaded !\n",
            "\n",
            "[%] Downloading Image #8 from https://image.cine21.com/resize/cine21/still/2018/1218/14_09_31__5c18810b47e93[H800-].jpg\n",
            "[%] File Downloaded !\n",
            "\n",
            "[%] Downloading Image #9 from https://yt3.ggpht.com/a/AATXAJyJ2kcHeOrcVzW3SxHCvNtBCErEfiPqNWGotg=s900-c-k-c0xffffffff-no-rj-mo\n",
            "[%] File Downloaded !\n",
            "\n",
            "[%] Downloading Image #10 from https://yt3.ggpht.com/a/AATXAJzPcY1G__zIgHjUPGYH1nvawXmccL_tjkiht-C3=s900-c-k-c0xffffffff-no-rj-mo\n",
            "[%] File Downloaded !\n",
            "\n",
            "[%] Downloading Image #11 from https://www.4flix.co.kr/data/file/gallery/3024265115_rWVwURDd_27705a7d5fa7d22aea3cf26ea8812f111a84cbed.jpg\n",
            "[%] File Downloaded !\n",
            "\n",
            "[%] Downloading Image #12 from https://img.extmovie.com/files/attach/images/135/879/990/073/7efcb774f7a5d775defc8b05e562d28f.jpg\n",
            "[%] File Downloaded !\n",
            "\n",
            "[%] Downloading Image #13 from http://t1.daumcdn.net/movie/b9598769784d47eda0f29b4d3bdaf7431544150936934\n",
            "[%] File Downloaded !\n",
            "\n",
            "[%] Downloading Image #14 from http://postfiles5.naver.net/20131024_276/alduddlah_1382620205292XeePE_PNG/_2013-07-30_11-03-38.png?type=w2\n",
            "[%] File Downloaded !\n",
            "\n",
            "[%] Downloading Image #15 from https://i.ytimg.com/vi/QNo4lCRBonY/maxresdefault.jpg\n",
            "[%] File Downloaded !\n",
            "\n",
            "[%] Downloading Image #16 from https://an2-img.amz.wtchn.net/image/v2/bcfa993f3d3a4f5b5405e405376c185d.jpg?jwt=ZXlKaGJHY2lPaUpJVXpJMU5pSjkuZXlKaVlXTnJaM0p2ZFc1a0lqcDdJbklpT2pJMU5Td2laeUk2TWpVMUxDSmlJam95TlRWOUxDSmpjbTl3SWpwMGNuVmxMQ0pvWldsbmFIUWlPakV3T0RBc0luQmhkR2dpT2lJdmRqSXZjM1J2Y21VdmFXMWhaMlV2TVRZeE5UZzNOREl4TkRReE1UUXhNVE16TnlJc0luRjFZV3hwZEhraU9qZ3dMQ0ozYVdSMGFDSTZNVGt5TUgwLmFRS3lpdTV4SnRXWm4tWktuTjE1UkFBbmphOGFmQjA2ZFBoTHRWY1RlVEE\n",
            "[%] File Downloaded !\n",
            "\n",
            "[%] Downloading Image #17 from http://postfiles10.naver.net/20131024_153/alduddlah_1382620211811l8hiD_JPEG/20120904161727_8543462718-1.jpg?type=w2\n",
            "[%] File Downloaded !\n",
            "\n",
            "[%] Downloading Image #18 from https://image.cine21.com/cine21/poster/2013/0325/10_18_44__514fa5f42931d.jpg\n",
            "[%] File Downloaded !\n",
            "\n",
            "[%] Downloading Image #19 from https://www.themoviedb.org/t/p/original/pMzitRMMpaKCuoOE4PpO2zDAtG8.jpg\n",
            "[%] File Downloaded !\n",
            "\n",
            "[%] Downloading Image #20 from https://i.pinimg.com/originals/01/63/07/016307f166ba1de640e764c12d97093b.jpg\n",
            "[%] File Downloaded !\n",
            "\n",
            "[%] Downloading Image #21 from https://i1.korea-iphone.com/files/044496979f8e9b3b7b12350140a8c2f2.jpg\n",
            "[%] File Downloaded !\n",
            "\n",
            "[%] Downloading Image #22 from https://pbs.twimg.com/media/Errc9E-VcAA3qiX.jpg\n",
            "[%] File Downloaded !\n",
            "\n",
            "[%] Downloading Image #23 from https://2.gall-img.com/hygall/files/attach/images/82/718/353/089/1743ddf59731017c7223623f9c56df47.jpeg\n",
            "[%] File Downloaded !\n",
            "\n",
            "[%] Downloading Image #24 from https://kin-phinf.pstatic.net/20210123_251/1611378715743VcLP3_JPEG/%B4ٿ%EE%B7ε%E5%C6%C4%C0ϣ%AD31.jpg?type=w750\n",
            "[!] Issue getting: https://kin-phinf.pstatic.net/20210123_251/1611378715743VcLP3_JPEG/%B4ٿ%EE%B7ε%E5%C6%C4%C0ϣ%AD31.jpg?type=w750\n",
            "[!] Error:: 'ascii' codec can't encode character '\\u067f' in position 45: ordinal not in range(128)\n",
            "[%] Downloading Image #24 from https://pbs.twimg.com/profile_images/1121370397/__.jpg\n",
            "[%] File Downloaded !\n",
            "\n",
            "[%] Downloading Image #25 from https://an2-img.amz.wtchn.net/image/v2/33532f5700b8faf27dff976f78ff8484.jpg?jwt=ZXlKaGJHY2lPaUpJVXpJMU5pSjkuZXlKaVlXTnJaM0p2ZFc1a0lqcDdJbklpT2pJMU5Td2laeUk2TWpVMUxDSmlJam95TlRWOUxDSmpjbTl3SWpwMGNuVmxMQ0pvWldsbmFIUWlPakV3T0RBc0luQmhkR2dpT2lJdmRqSXZjM1J2Y21VdmFXMWhaMlV2TVRZeE5UZ3lOakV5TURrME56RXlNRGcyTXlJc0luRjFZV3hwZEhraU9qZ3dMQ0ozYVdSMGFDSTZNVGt5TUgwLnN5YkhZTk9KVEx6ak95bEdFV3EyXzNOb0JMWHh5MjlOQ0xPTVl6TGNFV2s\n",
            "[%] File Downloaded !\n",
            "\n",
            "[%] Downloading Image #26 from https://yt3.ggpht.com/a/AATXAJx3wfKos_Pv0FKIDfb7tYveRli7lo_L4iM2QA=s900-c-k-c0xffffffff-no-rj-mo\n",
            "[%] File Downloaded !\n",
            "\n",
            "[%] Downloading Image #27 from https://kin-phinf.pstatic.net/20190715_73/1563189138201k8yJk_JPEG/6c7d2d63700438f5c3289fc2407c08db.jpg?type=w750\n",
            "[%] File Downloaded !\n",
            "\n",
            "[%] Downloading Image #28 from https://yt3.ggpht.com/a/AATXAJx4GAVu-MKuY5wP7cvObUu9TQGhk4N-IcEZTw=s900-c-k-c0xffffffff-no-rj-mo\n",
            "[%] File Downloaded !\n",
            "\n",
            "[%] Downloading Image #29 from https://yt3.ggpht.com/a/AATXAJxl_fw3PhjtfHHFObXWPewiIrKElo4rVIoY0Q=s900-c-k-c0xffffffff-no-rj-mo\n",
            "[%] File Downloaded !\n",
            "\n",
            "\n",
            "\n",
            "[!!]Indexing page: 2\n",
            "\n",
            "[%] Indexed 35 Images on Page 2.\n",
            "\n",
            "===============================================\n",
            "\n",
            "[%] Downloading Image #30 from https://yt3.ggpht.com/-sDFO3SKZZds/AAAAAAAAAAI/AAAAAAAAAAA/TP7rC3bORdQ/s900-c-k-no/photo.jpg\n",
            "[%] File Downloaded !\n",
            "\n",
            "\n",
            "\n",
            "[%] Done. Downloaded 30 images.\n"
          ]
        }
      ]
    },
    {
      "cell_type": "code",
      "source": [
        "import shutil\n",
        "\n",
        "def compress_folder(folder_path, output_path):\n",
        "    shutil.make_archive(output_path, 'zip', folder_path)\n",
        "\n",
        "# 이미지 저장 폴더 압축\n",
        "folder_path = \"images\"\n",
        "output_path = \"images\"\n",
        "compress_folder(folder_path, output_path)\n"
      ],
      "metadata": {
        "id": "fYjYtBce8BVR"
      },
      "execution_count": 13,
      "outputs": []
    }
  ]
}